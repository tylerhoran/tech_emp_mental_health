{
 "cells": [
  {
   "cell_type": "markdown",
   "id": "e6050fcc",
   "metadata": {},
   "source": [
    "# Mental Health in Tech Industry Survey Analysis\n",
    "\n",
    "This Jupyter notebook presents an analysis of a survey dataset focusing on mental health in the tech industry. The objective is to build and evaluate a machine learning model capable of predicting whether employees in tech companies seek help for mental health issues. The analysis includes Exploratory Data Analysis (EDA), data preprocessing, model training, and evaluation. This notebook is intended for a machine learning audience and aims to provide clear explanations of each step along with the outcomes.\n",
    "    "
   ]
  },
  {
   "cell_type": "code",
   "execution_count": 3,
   "id": "605d2d4f",
   "metadata": {},
   "outputs": [],
   "source": [
    "import pandas as pd\n",
    "import warnings\n",
    "warnings.filterwarnings('ignore')"
   ]
  },
  {
   "cell_type": "markdown",
   "id": "da780b96",
   "metadata": {},
   "source": [
    "# Load the dataset to take a look at it\n"
   ]
  },
  {
   "cell_type": "markdown",
   "id": "9b4bf1a3",
   "metadata": {},
   "source": [
    "## Loading the Dataset\n",
    "The dataset is loaded into a pandas DataFrame to begin the analysis."
   ]
  },
  {
   "cell_type": "code",
   "execution_count": 4,
   "id": "7492d7c3",
   "metadata": {},
   "outputs": [],
   "source": [
    "file_path = 'data/survey_data.csv'\n",
    "data = pd.read_csv(file_path)"
   ]
  },
  {
   "cell_type": "markdown",
   "id": "6beb641c",
   "metadata": {},
   "source": [
    "# Display the first few rows of the dataset\n"
   ]
  },
  {
   "cell_type": "code",
   "execution_count": 5,
   "id": "14e35c05",
   "metadata": {},
   "outputs": [
    {
     "data": {
      "text/html": [
       "<div>\n",
       "<style scoped>\n",
       "    .dataframe tbody tr th:only-of-type {\n",
       "        vertical-align: middle;\n",
       "    }\n",
       "\n",
       "    .dataframe tbody tr th {\n",
       "        vertical-align: top;\n",
       "    }\n",
       "\n",
       "    .dataframe thead th {\n",
       "        text-align: right;\n",
       "    }\n",
       "</style>\n",
       "<table border=\"1\" class=\"dataframe\">\n",
       "  <thead>\n",
       "    <tr style=\"text-align: right;\">\n",
       "      <th></th>\n",
       "      <th>age</th>\n",
       "      <th>gender</th>\n",
       "      <th>country</th>\n",
       "      <th>state</th>\n",
       "      <th>is_self_employed</th>\n",
       "      <th>is_family_history_of_mental_illness</th>\n",
       "      <th>is_treatment_sought</th>\n",
       "      <th>interference_with_work</th>\n",
       "      <th>number_of_employees_in_organization</th>\n",
       "      <th>is_employer_tech_company</th>\n",
       "      <th>mental_health_benefits</th>\n",
       "      <th>mental_healthcare_options</th>\n",
       "      <th>mental_health_employee_wellness_program</th>\n",
       "      <th>mental_health_employee_resources</th>\n",
       "      <th>employee_anonymity_protected</th>\n",
       "      <th>mental_health_leave</th>\n",
       "      <th>willingness_to_discuss_with_coworkers</th>\n",
       "      <th>willingness_to_discuss_with_supervisors</th>\n",
       "    </tr>\n",
       "  </thead>\n",
       "  <tbody>\n",
       "    <tr>\n",
       "      <th>0</th>\n",
       "      <td>25.0</td>\n",
       "      <td>Male</td>\n",
       "      <td>United States of America</td>\n",
       "      <td>Nebraska</td>\n",
       "      <td>False</td>\n",
       "      <td>False</td>\n",
       "      <td>False</td>\n",
       "      <td>Not applicable to me</td>\n",
       "      <td>26-100</td>\n",
       "      <td>True</td>\n",
       "      <td>I don't know</td>\n",
       "      <td>No</td>\n",
       "      <td>Yes</td>\n",
       "      <td>Yes</td>\n",
       "      <td>I don't know</td>\n",
       "      <td>Very easy</td>\n",
       "      <td>Physical health</td>\n",
       "      <td>Yes</td>\n",
       "    </tr>\n",
       "    <tr>\n",
       "      <th>1</th>\n",
       "      <td>51.0</td>\n",
       "      <td>Male</td>\n",
       "      <td>United States of America</td>\n",
       "      <td>Nebraska</td>\n",
       "      <td>False</td>\n",
       "      <td>True</td>\n",
       "      <td>False</td>\n",
       "      <td>Sometimes</td>\n",
       "      <td>26-100</td>\n",
       "      <td>True</td>\n",
       "      <td>Yes</td>\n",
       "      <td>No</td>\n",
       "      <td>No</td>\n",
       "      <td>Yes</td>\n",
       "      <td>Yes</td>\n",
       "      <td>I don't know</td>\n",
       "      <td>Physical health</td>\n",
       "      <td>Maybe</td>\n",
       "    </tr>\n",
       "    <tr>\n",
       "      <th>2</th>\n",
       "      <td>27.0</td>\n",
       "      <td>Male</td>\n",
       "      <td>United States of America</td>\n",
       "      <td>Illinois</td>\n",
       "      <td>False</td>\n",
       "      <td>NaN</td>\n",
       "      <td>False</td>\n",
       "      <td>Not applicable to me</td>\n",
       "      <td>26-100</td>\n",
       "      <td>True</td>\n",
       "      <td>I don't know</td>\n",
       "      <td>No</td>\n",
       "      <td>No</td>\n",
       "      <td>I don't know</td>\n",
       "      <td>I don't know</td>\n",
       "      <td>Somewhat difficult</td>\n",
       "      <td>Same level of comfort for each</td>\n",
       "      <td>No</td>\n",
       "    </tr>\n",
       "    <tr>\n",
       "      <th>3</th>\n",
       "      <td>37.0</td>\n",
       "      <td>Male</td>\n",
       "      <td>United States of America</td>\n",
       "      <td>Nebraska</td>\n",
       "      <td>False</td>\n",
       "      <td>True</td>\n",
       "      <td>False</td>\n",
       "      <td>Not applicable to me</td>\n",
       "      <td>100-500</td>\n",
       "      <td>True</td>\n",
       "      <td>I don't know</td>\n",
       "      <td>No</td>\n",
       "      <td>Yes</td>\n",
       "      <td>Yes</td>\n",
       "      <td>Yes</td>\n",
       "      <td>Very easy</td>\n",
       "      <td>Physical health</td>\n",
       "      <td>Yes</td>\n",
       "    </tr>\n",
       "    <tr>\n",
       "      <th>4</th>\n",
       "      <td>46.0</td>\n",
       "      <td>Male</td>\n",
       "      <td>United States of America</td>\n",
       "      <td>Nebraska</td>\n",
       "      <td>False</td>\n",
       "      <td>False</td>\n",
       "      <td>False</td>\n",
       "      <td>Not applicable to me</td>\n",
       "      <td>26-100</td>\n",
       "      <td>True</td>\n",
       "      <td>I don't know</td>\n",
       "      <td>No</td>\n",
       "      <td>I don't know</td>\n",
       "      <td>I don't know</td>\n",
       "      <td>I don't know</td>\n",
       "      <td>I don't know</td>\n",
       "      <td>Physical health</td>\n",
       "      <td>No</td>\n",
       "    </tr>\n",
       "  </tbody>\n",
       "</table>\n",
       "</div>"
      ],
      "text/plain": [
       "    age gender                   country     state  is_self_employed  \\\n",
       "0  25.0   Male  United States of America  Nebraska             False   \n",
       "1  51.0   Male  United States of America  Nebraska             False   \n",
       "2  27.0   Male  United States of America  Illinois             False   \n",
       "3  37.0   Male  United States of America  Nebraska             False   \n",
       "4  46.0   Male  United States of America  Nebraska             False   \n",
       "\n",
       "  is_family_history_of_mental_illness  is_treatment_sought  \\\n",
       "0                               False                False   \n",
       "1                                True                False   \n",
       "2                                 NaN                False   \n",
       "3                                True                False   \n",
       "4                               False                False   \n",
       "\n",
       "  interference_with_work number_of_employees_in_organization  \\\n",
       "0   Not applicable to me                              26-100   \n",
       "1              Sometimes                              26-100   \n",
       "2   Not applicable to me                              26-100   \n",
       "3   Not applicable to me                             100-500   \n",
       "4   Not applicable to me                              26-100   \n",
       "\n",
       "  is_employer_tech_company mental_health_benefits mental_healthcare_options  \\\n",
       "0                     True           I don't know                        No   \n",
       "1                     True                    Yes                        No   \n",
       "2                     True           I don't know                        No   \n",
       "3                     True           I don't know                        No   \n",
       "4                     True           I don't know                        No   \n",
       "\n",
       "  mental_health_employee_wellness_program mental_health_employee_resources  \\\n",
       "0                                     Yes                              Yes   \n",
       "1                                      No                              Yes   \n",
       "2                                      No                     I don't know   \n",
       "3                                     Yes                              Yes   \n",
       "4                            I don't know                     I don't know   \n",
       "\n",
       "  employee_anonymity_protected mental_health_leave  \\\n",
       "0                 I don't know           Very easy   \n",
       "1                          Yes        I don't know   \n",
       "2                 I don't know  Somewhat difficult   \n",
       "3                          Yes           Very easy   \n",
       "4                 I don't know        I don't know   \n",
       "\n",
       "  willingness_to_discuss_with_coworkers  \\\n",
       "0                       Physical health   \n",
       "1                       Physical health   \n",
       "2        Same level of comfort for each   \n",
       "3                       Physical health   \n",
       "4                       Physical health   \n",
       "\n",
       "  willingness_to_discuss_with_supervisors  \n",
       "0                                     Yes  \n",
       "1                                   Maybe  \n",
       "2                                      No  \n",
       "3                                     Yes  \n",
       "4                                      No  "
      ]
     },
     "execution_count": 5,
     "metadata": {},
     "output_type": "execute_result"
    }
   ],
   "source": [
    "data.head()"
   ]
  },
  {
   "cell_type": "markdown",
   "id": "c5909562",
   "metadata": {},
   "source": [
    "# Performing Exploratory Data Analysis (EDA)\n"
   ]
  },
  {
   "cell_type": "code",
   "execution_count": 6,
   "id": "e4b6377f",
   "metadata": {},
   "outputs": [],
   "source": [
    "import matplotlib.pyplot as plt\n",
    "import seaborn as sns"
   ]
  },
  {
   "cell_type": "markdown",
   "id": "43362f2c",
   "metadata": {},
   "source": [
    "# Summary statistics for numerical columns\n"
   ]
  },
  {
   "cell_type": "markdown",
   "id": "16811e80",
   "metadata": {},
   "source": [
    "## Initial Data Exploration\n",
    "Exploring the basic statistical properties of the dataset to understand the distribution of numerical features and the uniqueness of categorical features."
   ]
  },
  {
   "cell_type": "code",
   "execution_count": 7,
   "id": "770a22cc",
   "metadata": {},
   "outputs": [],
   "source": [
    "numerical_summary = data.describe()"
   ]
  },
  {
   "cell_type": "markdown",
   "id": "1da1ac56",
   "metadata": {},
   "source": [
    "# Count of unique values for categorical columns\n"
   ]
  },
  {
   "cell_type": "markdown",
   "id": "b6f692e3",
   "metadata": {},
   "source": [
    "## Initial Data Exploration\n",
    "Exploring the basic statistical properties of the dataset to understand the distribution of numerical features and the uniqueness of categorical features."
   ]
  },
  {
   "cell_type": "code",
   "execution_count": 8,
   "id": "8ea59cd8",
   "metadata": {},
   "outputs": [],
   "source": [
    "categorical_columns = data.select_dtypes(include=['object', 'bool']).columns\n",
    "categorical_summary = data[categorical_columns].nunique()"
   ]
  },
  {
   "cell_type": "markdown",
   "id": "fc1e3120",
   "metadata": {},
   "source": [
    "# Checking for missing values\n"
   ]
  },
  {
   "cell_type": "code",
   "execution_count": 9,
   "id": "d19b65a9",
   "metadata": {},
   "outputs": [],
   "source": [
    "missing_values = data.isnull().sum()"
   ]
  },
  {
   "cell_type": "markdown",
   "id": "2cd9edc4",
   "metadata": {},
   "source": [
    "# Distribution of the target variable"
   ]
  },
  {
   "cell_type": "markdown",
   "id": "5046de3d",
   "metadata": {},
   "source": [
    "## Model Training\n",
    "Using GridSearchCV to find the best parameters for various models and selecting the best model based on performance metrics."
   ]
  },
  {
   "cell_type": "code",
   "execution_count": 10,
   "id": "dcf518b2",
   "metadata": {},
   "outputs": [
    {
     "data": {
      "image/png": "[encoded data removed]",
      "text/plain": [
       "<Figure size 576x288 with 1 Axes>"
      ]
     },
     "metadata": {
      "needs_background": "light"
     },
     "output_type": "display_data"
    }
   ],
   "source": [
    "plt.figure(figsize=(8, 4))\n",
    "sns.countplot(x='is_treatment_sought', data=data)\n",
    "plt.title('Distribution of is_treatment_sought')\n",
    "plt.show()\n",
    "\n",
    "numerical_summary, categorical_summary, missing_values\n",
    "\n",
    "\n",
    "from sklearn.linear_model import LogisticRegression\n",
    "from sklearn.ensemble import RandomForestClassifier\n",
    "from sklearn.svm import SVC\n",
    "from sklearn.model_selection import GridSearchCV\n",
    "from sklearn.metrics import classification_report, accuracy_score\n",
    "\n"
   ]
  },
  {
   "cell_type": "markdown",
   "id": "4ffb319b",
   "metadata": {},
   "source": [
    "# Define the models and their hyperparameters for grid search\n"
   ]
  },
  {
   "cell_type": "code",
   "execution_count": 11,
   "id": "74f02040",
   "metadata": {},
   "outputs": [],
   "source": [
    "model_params = {\n",
    "    'LogisticRegression': {\n",
    "        'model': LogisticRegression(),\n",
    "        'params': {\n",
    "            'C': [0.1, 1, 10, 100]\n",
    "        }\n",
    "    },\n",
    "    'RandomForestClassifier': {\n",
    "        'model': RandomForestClassifier(),\n",
    "        'params': {\n",
    "            'n_estimators': [10, 50, 100],\n",
    "            'max_depth': [None, 10, 20, 30]\n",
    "        }\n",
    "    },\n",
    "    'SVC': {\n",
    "        'model': SVC(),\n",
    "        'params': {\n",
    "            'C': [0.1, 1, 10, 100],\n",
    "            'kernel': ['rbf', 'linear']\n",
    "        }\n",
    "    }\n",
    "}"
   ]
  },
  {
   "cell_type": "markdown",
   "id": "7c5524c5",
   "metadata": {},
   "source": [
    "## Data Preprocessing\n",
    "Splitting the dataset into training and testing sets and performing necessary preprocessing steps such as encoding categorical variables and scaling numerical features."
   ]
  },
  {
   "cell_type": "code",
   "execution_count": 13,
   "id": "29401abb",
   "metadata": {},
   "outputs": [],
   "source": [
    "from sklearn.model_selection import train_test_split\n",
    "from sklearn.preprocessing import StandardScaler, OneHotEncoder\n",
    "from sklearn.impute import SimpleImputer\n",
    "from sklearn.compose import ColumnTransformer\n",
    "from sklearn.pipeline import Pipeline\n",
    "import pickle\n",
    "\n",
    "# Splitting the data into features and target variable\n",
    "X = data.drop('is_treatment_sought', axis=1)\n",
    "y = data['is_treatment_sought']\n",
    "\n",
    "# Splitting dataset into training and testing sets\n",
    "X_train, X_test, y_train, y_test = train_test_split(X, y, test_size=0.2, random_state=42)\n",
    "\n",
    "# Lists of different types of columns (numerical and categorical)\n",
    "numerical_cols = X_train.select_dtypes(include=['int64', 'float64']).columns\n",
    "categorical_cols = X_train.select_dtypes(include=['object', 'bool']).columns\n",
    "\n",
    "# Creating transformers for the preprocessing pipeline\n",
    "numerical_transformer = Pipeline(steps=[\n",
    "    ('imputer', SimpleImputer(strategy='mean')),\n",
    "    ('scaler', StandardScaler())])\n",
    "\n",
    "categorical_transformer = Pipeline(steps=[\n",
    "    ('imputer', SimpleImputer(strategy='most_frequent')),\n",
    "    ('onehot', OneHotEncoder(handle_unknown='ignore'))])\n",
    "\n",
    "# Combining transformers into a preprocessor\n",
    "preprocessor = ColumnTransformer(\n",
    "    transformers=[\n",
    "        ('num', numerical_transformer, numerical_cols),\n",
    "        ('cat', categorical_transformer, categorical_cols)])\n",
    "\n",
    "# Apply the preprocessing to the training data\n",
    "X_train_preprocessed = preprocessor.fit_transform(X_train)\n",
    "X_test_preprocessed = preprocessor.transform(X_test)\n",
    "\n",
    "X_train_preprocessed.shape, X_test_preprocessed.shape\n",
    "\n",
    "with open('model/preprocessor.pkl', 'wb') as f:\n",
    "    pickle.dump(preprocessor, f)\n",
    "\n"
   ]
  },
  {
   "cell_type": "markdown",
   "id": "818e6bd9",
   "metadata": {},
   "source": [
    "# Grid search for best parameters and model"
   ]
  },
  {
   "cell_type": "markdown",
   "id": "1991ce7f",
   "metadata": {},
   "source": [
    "## Model Training\n",
    "Using GridSearchCV to find the best parameters for various models and selecting the best model based on performance metrics."
   ]
  },
  {
   "cell_type": "code",
   "execution_count": 60,
   "id": "c0738004",
   "metadata": {},
   "outputs": [],
   "source": [
    "scores = []\n",
    "for model_name, mp in model_params.items():\n",
    "    clf =  GridSearchCV(mp['model'], mp['params'], cv=5, return_train_score=False)\n",
    "    clf.fit(X_train_preprocessed, y_train)\n",
    "    scores.append({\n",
    "        'model': model_name,\n",
    "        'best_score': clf.best_score_,\n",
    "        'best_params': clf.best_params_\n",
    "    })"
   ]
  },
  {
   "cell_type": "markdown",
   "id": "45b879cb",
   "metadata": {},
   "source": [
    "## Creating a DataFrame to display the results of the grid search\n"
   ]
  },
  {
   "cell_type": "code",
   "execution_count": 61,
   "id": "6bf3eda1",
   "metadata": {},
   "outputs": [
    {
     "data": {
      "text/html": [
       "<div>\n",
       "<style scoped>\n",
       "    .dataframe tbody tr th:only-of-type {\n",
       "        vertical-align: middle;\n",
       "    }\n",
       "\n",
       "    .dataframe tbody tr th {\n",
       "        vertical-align: top;\n",
       "    }\n",
       "\n",
       "    .dataframe thead th {\n",
       "        text-align: right;\n",
       "    }\n",
       "</style>\n",
       "<table border=\"1\" class=\"dataframe\">\n",
       "  <thead>\n",
       "    <tr style=\"text-align: right;\">\n",
       "      <th></th>\n",
       "      <th>model</th>\n",
       "      <th>best_score</th>\n",
       "      <th>best_params</th>\n",
       "    </tr>\n",
       "  </thead>\n",
       "  <tbody>\n",
       "    <tr>\n",
       "      <th>0</th>\n",
       "      <td>LogisticRegression</td>\n",
       "      <td>0.793860</td>\n",
       "      <td>{'C': 0.1}</td>\n",
       "    </tr>\n",
       "    <tr>\n",
       "      <th>1</th>\n",
       "      <td>RandomForestClassifier</td>\n",
       "      <td>0.783083</td>\n",
       "      <td>{'max_depth': 20, 'n_estimators': 50}</td>\n",
       "    </tr>\n",
       "    <tr>\n",
       "      <th>2</th>\n",
       "      <td>SVC</td>\n",
       "      <td>0.804323</td>\n",
       "      <td>{'C': 0.1, 'kernel': 'linear'}</td>\n",
       "    </tr>\n",
       "  </tbody>\n",
       "</table>\n",
       "</div>"
      ],
      "text/plain": [
       "                    model  best_score                            best_params\n",
       "0      LogisticRegression    0.793860                             {'C': 0.1}\n",
       "1  RandomForestClassifier    0.783083  {'max_depth': 20, 'n_estimators': 50}\n",
       "2                     SVC    0.804323         {'C': 0.1, 'kernel': 'linear'}"
      ]
     },
     "execution_count": 61,
     "metadata": {},
     "output_type": "execute_result"
    }
   ],
   "source": [
    "model_comparison = pd.DataFrame(scores, columns=['model', 'best_score', 'best_params'])\n",
    "model_comparison\n",
    "\n"
   ]
  },
  {
   "cell_type": "markdown",
   "id": "821f9842",
   "metadata": {},
   "source": [
    "# Model selection summary\n",
    "\n",
    "Three different machine learning models were evaluated using GridSearchCV, which performed hyperparameter tuning and cross-validation to find the best model and parameters. The models and their best performance scores are:\n",
    "\n",
    "Based on these results, the Support Vector Classifier (SVC) with C=0.1 and kernel='linear' is the best-performing model for predicting whether tech company employees seek help for mental health.\n",
    "\n",
    "# Model exporting"
   ]
  },
  {
   "cell_type": "markdown",
   "id": "f98c2948",
   "metadata": {},
   "source": [
    "## Model Evaluation\n",
    "Evaluating the selected model on the test set using confusion matrix and classification report to understand its performance."
   ]
  },
  {
   "cell_type": "code",
   "execution_count": 62,
   "id": "99ecd750",
   "metadata": {},
   "outputs": [],
   "source": [
    "from sklearn.metrics import confusion_matrix, classification_report"
   ]
  },
  {
   "cell_type": "markdown",
   "id": "d97a0857",
   "metadata": {},
   "source": [
    "# Creating the final model with the best parameters"
   ]
  },
  {
   "cell_type": "code",
   "execution_count": 63,
   "id": "99b9ee4a",
   "metadata": {},
   "outputs": [],
   "source": [
    "final_model = SVC(C=0.1, kernel='linear')\n",
    "\n"
   ]
  },
  {
   "cell_type": "markdown",
   "id": "3f3c3810",
   "metadata": {},
   "source": [
    "# Training the final model\n"
   ]
  },
  {
   "cell_type": "code",
   "execution_count": 64,
   "id": "c0fbaa90",
   "metadata": {},
   "outputs": [
    {
     "data": {
      "text/html": [
       "<style>#sk-container-id-5 {color: black;}#sk-container-id-5 pre{padding: 0;}#sk-container-id-5 div.sk-toggleable {background-color: white;}#sk-container-id-5 label.sk-toggleable__label {cursor: pointer;display: block;width: 100%;margin-bottom: 0;padding: 0.3em;box-sizing: border-box;text-align: center;}#sk-container-id-5 label.sk-toggleable__label-arrow:before {content: \"▸\";float: left;margin-right: 0.25em;color: #696969;}#sk-container-id-5 label.sk-toggleable__label-arrow:hover:before {color: black;}#sk-container-id-5 div.sk-estimator:hover label.sk-toggleable__label-arrow:before {color: black;}#sk-container-id-5 div.sk-toggleable__content {max-height: 0;max-width: 0;overflow: hidden;text-align: left;background-color: #f0f8ff;}#sk-container-id-5 div.sk-toggleable__content pre {margin: 0.2em;color: black;border-radius: 0.25em;background-color: #f0f8ff;}#sk-container-id-5 input.sk-toggleable__control:checked~div.sk-toggleable__content {max-height: 200px;max-width: 100%;overflow: auto;}#sk-container-id-5 input.sk-toggleable__control:checked~label.sk-toggleable__label-arrow:before {content: \"▾\";}#sk-container-id-5 div.sk-estimator input.sk-toggleable__control:checked~label.sk-toggleable__label {background-color: #d4ebff;}#sk-container-id-5 div.sk-label input.sk-toggleable__control:checked~label.sk-toggleable__label {background-color: #d4ebff;}#sk-container-id-5 input.sk-hidden--visually {border: 0;clip: rect(1px 1px 1px 1px);clip: rect(1px, 1px, 1px, 1px);height: 1px;margin: -1px;overflow: hidden;padding: 0;position: absolute;width: 1px;}#sk-container-id-5 div.sk-estimator {font-family: monospace;background-color: #f0f8ff;border: 1px dotted black;border-radius: 0.25em;box-sizing: border-box;margin-bottom: 0.5em;}#sk-container-id-5 div.sk-estimator:hover {background-color: #d4ebff;}#sk-container-id-5 div.sk-parallel-item::after {content: \"\";width: 100%;border-bottom: 1px solid gray;flex-grow: 1;}#sk-container-id-5 div.sk-label:hover label.sk-toggleable__label {background-color: #d4ebff;}#sk-container-id-5 div.sk-serial::before {content: \"\";position: absolute;border-left: 1px solid gray;box-sizing: border-box;top: 0;bottom: 0;left: 50%;z-index: 0;}#sk-container-id-5 div.sk-serial {display: flex;flex-direction: column;align-items: center;background-color: white;padding-right: 0.2em;padding-left: 0.2em;position: relative;}#sk-container-id-5 div.sk-item {position: relative;z-index: 1;}#sk-container-id-5 div.sk-parallel {display: flex;align-items: stretch;justify-content: center;background-color: white;position: relative;}#sk-container-id-5 div.sk-item::before, #sk-container-id-5 div.sk-parallel-item::before {content: \"\";position: absolute;border-left: 1px solid gray;box-sizing: border-box;top: 0;bottom: 0;left: 50%;z-index: -1;}#sk-container-id-5 div.sk-parallel-item {display: flex;flex-direction: column;z-index: 1;position: relative;background-color: white;}#sk-container-id-5 div.sk-parallel-item:first-child::after {align-self: flex-end;width: 50%;}#sk-container-id-5 div.sk-parallel-item:last-child::after {align-self: flex-start;width: 50%;}#sk-container-id-5 div.sk-parallel-item:only-child::after {width: 0;}#sk-container-id-5 div.sk-dashed-wrapped {border: 1px dashed gray;margin: 0 0.4em 0.5em 0.4em;box-sizing: border-box;padding-bottom: 0.4em;background-color: white;}#sk-container-id-5 div.sk-label label {font-family: monospace;font-weight: bold;display: inline-block;line-height: 1.2em;}#sk-container-id-5 div.sk-label-container {text-align: center;}#sk-container-id-5 div.sk-container {/* jupyter's `normalize.less` sets `[hidden] { display: none; }` but bootstrap.min.css set `[hidden] { display: none !important; }` so we also need the `!important` here to be able to override the default hidden behavior on the sphinx rendered scikit-learn.org. See: https://github.com/scikit-learn/scikit-learn/issues/21755 */display: inline-block !important;position: relative;}#sk-container-id-5 div.sk-text-repr-fallback {display: none;}</style><div id=\"sk-container-id-5\" class=\"sk-top-container\"><div class=\"sk-text-repr-fallback\"><pre>SVC(C=0.1, kernel=&#x27;linear&#x27;)</pre><b>In a Jupyter environment, please rerun this cell to show the HTML representation or trust the notebook. <br />On GitHub, the HTML representation is unable to render, please try loading this page with nbviewer.org.</b></div><div class=\"sk-container\" hidden><div class=\"sk-item\"><div class=\"sk-estimator sk-toggleable\"><input class=\"sk-toggleable__control sk-hidden--visually\" id=\"sk-estimator-id-5\" type=\"checkbox\" checked><label for=\"sk-estimator-id-5\" class=\"sk-toggleable__label sk-toggleable__label-arrow\">SVC</label><div class=\"sk-toggleable__content\"><pre>SVC(C=0.1, kernel=&#x27;linear&#x27;)</pre></div></div></div></div></div>"
      ],
      "text/plain": [
       "SVC(C=0.1, kernel='linear')"
      ]
     },
     "execution_count": 64,
     "metadata": {},
     "output_type": "execute_result"
    }
   ],
   "source": [
    "final_model.fit(X_train_preprocessed, y_train)\n",
    "\n"
   ]
  },
  {
   "cell_type": "markdown",
   "id": "82e23a36",
   "metadata": {},
   "source": [
    "# Predicting on the test set\n"
   ]
  },
  {
   "cell_type": "code",
   "execution_count": 65,
   "id": "6ab706ab",
   "metadata": {},
   "outputs": [],
   "source": [
    "y_pred = final_model.predict(X_test_preprocessed)\n",
    "\n"
   ]
  },
  {
   "cell_type": "markdown",
   "id": "4137c2fb",
   "metadata": {},
   "source": [
    "# Evaluating the model\n"
   ]
  },
  {
   "cell_type": "markdown",
   "id": "b27e7ddc",
   "metadata": {},
   "source": [
    "## Model Evaluation\n",
    "Evaluating the selected model on the test set using confusion matrix and classification report to understand its performance."
   ]
  },
  {
   "cell_type": "code",
   "execution_count": 66,
   "id": "aad362ec",
   "metadata": {},
   "outputs": [
    {
     "name": "stdout",
     "output_type": "stream",
     "text": [
      "              precision    recall  f1-score   support\n",
      "\n",
      "       False       0.63      0.73      0.68        26\n",
      "        True       0.83      0.76      0.79        45\n",
      "\n",
      "    accuracy                           0.75        71\n",
      "   macro avg       0.73      0.74      0.73        71\n",
      "weighted avg       0.76      0.75      0.75        71\n",
      "\n"
     ]
    },
    {
     "data": {
      "image/png": "[encoded data removed]",
      "text/plain": [
       "<Figure size 432x288 with 2 Axes>"
      ]
     },
     "metadata": {
      "needs_background": "light"
     },
     "output_type": "display_data"
    }
   ],
   "source": [
    "conf_matrix = confusion_matrix(y_test, y_pred)\n",
    "class_report = classification_report(y_test, y_pred)\n",
    "\n",
    "import seaborn as sns\n",
    "import matplotlib.pyplot as plt     \n",
    "\n",
    "ax= plt.subplot()\n",
    "sns.heatmap(conf_matrix, annot=True, fmt='g', ax=ax);  #annot=True to annotate cells, ftm='g' to disable scientific notation\n",
    "\n",
    "# labels, title and ticks\n",
    "ax.set_xlabel('Predicted labels');ax.set_ylabel('True labels'); \n",
    "ax.set_title('Confusion Matrix'); \n",
    "ax.xaxis.set_ticklabels(['Does Not','Seeks Help']); ax.yaxis.set_ticklabels(['Does Not','Seeks Help']);\n",
    "\n",
    "\n",
    "print(class_report)\n"
   ]
  },
  {
   "cell_type": "markdown",
   "id": "a7d4174f",
   "metadata": {},
   "source": [
    "# Saving the model as a pickle file\n"
   ]
  },
  {
   "cell_type": "markdown",
   "id": "8c26558e",
   "metadata": {},
   "source": [
    "## Saving the Model\n",
    "Saving the final model as a pickle file for deployment."
   ]
  },
  {
   "cell_type": "code",
   "execution_count": 70,
   "id": "1d491b89",
   "metadata": {},
   "outputs": [],
   "source": [
    "model_filename = 'model/final_model.pkl'\n",
    "with open(model_filename, 'wb') as file:\n",
    "    pickle.dump(final_model, file)"
   ]
  },
  {
   "cell_type": "code",
   "execution_count": null,
   "id": "a897fd4e",
   "metadata": {},
   "outputs": [],
   "source": []
  }
 ],
 "metadata": {
  "kernelspec": {
   "display_name": "Python 3 (ipykernel)",
   "language": "python",
   "name": "python3"
  },
  "language_info": {
   "codemirror_mode": {
    "name": "ipython",
    "version": 3
   },
   "file_extension": ".py",
   "mimetype": "text/x-python",
   "name": "python",
   "nbconvert_exporter": "python",
   "pygments_lexer": "ipython3",
   "version": "3.9.18"
  }
 },
 "nbformat": 4,
 "nbformat_minor": 5
}
